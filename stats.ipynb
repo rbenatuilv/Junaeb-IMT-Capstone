{
 "cells": [
  {
   "cell_type": "code",
   "execution_count": 12,
   "metadata": {},
   "outputs": [],
   "source": [
    "import pandas as pd\n",
    "import os\n",
    "import modules.graph as graph\n",
    "import modules.geo as geo"
   ]
  },
  {
   "cell_type": "code",
   "execution_count": 13,
   "metadata": {},
   "outputs": [],
   "source": [
    "data_file = 'UT_profits.xlsx'\n",
    "df_profits = pd.read_excel(data_file)\n",
    "\n",
    "data_file = 'Colegios2020(UTs).xlsx'\n",
    "df_schools = pd.read_excel(data_file)"
   ]
  },
  {
   "cell_type": "code",
   "execution_count": 14,
   "metadata": {},
   "outputs": [],
   "source": [
    "uts = df_profits['UT'].unique()\n",
    "UT = [df_schools['UT'][i] for i in range(len(df_schools))]\n",
    "\n",
    "ut_edges = [[] for _ in range(len(uts))]\n",
    "\n",
    "points = [(df_schools['Longitud'][i], df_schools['Latitud'][i]) \n",
    "          for i in range(len(df_schools))]\n",
    "\n",
    "schools_edges = graph.get_adj_list(points)\n",
    "\n",
    "for i in range(len(df_schools)):\n",
    "    for j in schools_edges[i]:\n",
    "\n",
    "        dist = geo.convert_to_meters(graph.distance(points[i], points[j]))\n",
    "\n",
    "        if UT[j] not in ut_edges[UT[i]] and UT[i] != UT[j] and dist < 150000:\n",
    "            ut_edges[UT[i]].append(UT[j])"
   ]
  },
  {
   "cell_type": "code",
   "execution_count": 15,
   "metadata": {},
   "outputs": [
    {
     "name": "stdout",
     "output_type": "stream",
     "text": [
      "1.2804464629206127\n",
      "2.1387714268300004\n",
      "1.0011206007660922\n"
     ]
    }
   ],
   "source": [
    "sumdiff = 0\n",
    "maxdiff = 0\n",
    "mindiff = 100000\n",
    "contar = 0\n",
    "\n",
    "profit = [df_profits['Profit'][i] for i in range(len(df_profits))]\n",
    "\n",
    "for i in range(len(ut_edges)):\n",
    "    for j in ut_edges[i]:\n",
    "        sumdiff = sumdiff + max(profit[i], profit[j]) / min(profit[i], profit[j])\n",
    "        contar = contar + 1\n",
    "        maxdiff = max(maxdiff, max(profit[i], profit[j]) / min(profit[i], profit[j]))\n",
    "        mindiff = min(mindiff, max(profit[i], profit[j]) / min(profit[i], profit[j]))\n",
    "\n",
    "print(sumdiff/contar)\n",
    "print(maxdiff)\n",
    "print(mindiff)"
   ]
  },
  {
   "cell_type": "code",
   "execution_count": null,
   "metadata": {},
   "outputs": [],
   "source": []
  }
 ],
 "metadata": {
  "kernelspec": {
   "display_name": "Python 3",
   "language": "python",
   "name": "python3"
  },
  "language_info": {
   "codemirror_mode": {
    "name": "ipython",
    "version": 3
   },
   "file_extension": ".py",
   "mimetype": "text/x-python",
   "name": "python",
   "nbconvert_exporter": "python",
   "pygments_lexer": "ipython3",
   "version": "3.11.5"
  }
 },
 "nbformat": 4,
 "nbformat_minor": 2
}
