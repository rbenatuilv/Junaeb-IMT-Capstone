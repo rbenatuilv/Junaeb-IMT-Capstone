{
 "cells": [
  {
   "cell_type": "code",
   "execution_count": 1,
   "metadata": {},
   "outputs": [],
   "source": [
    "import pandas as pd\n",
    "import modules.graph as graph\n",
    "import modules.geo as geo\n",
    "import modules.db_management as dbm\n",
    "import os"
   ]
  },
  {
   "cell_type": "markdown",
   "metadata": {},
   "source": [
    "## Cálculo de estadísticas de solución antigua"
   ]
  },
  {
   "cell_type": "code",
   "execution_count": 30,
   "metadata": {},
   "outputs": [],
   "source": [
    "data_path = os.path.join('Data', 'Colegios(Continental)2020.xlsx')\n",
    "schools = pd.read_excel(data_path)\n",
    "\n",
    "racs_path = os.path.join('Data', 'Raciones', 'Raciones_totales.xlsx')\n",
    "racs = pd.read_excel(racs_path)"
   ]
  },
  {
   "cell_type": "code",
   "execution_count": 31,
   "metadata": {},
   "outputs": [
    {
     "name": "stderr",
     "output_type": "stream",
     "text": [
      "Checking and joining duplicate schools: 100%|██████████| 8934/8934 [00:00<00:00, 28088.18it/s]\n"
     ]
    }
   ],
   "source": [
    "dupl_free = dbm.join_duplicate_schools(schools, coords_labels=['Longitud', 'Latitud'])\n",
    "dupl_free['Logistica'] = pd.read_excel('logistics.xlsx')['Logistica']"
   ]
  },
  {
   "cell_type": "code",
   "execution_count": 32,
   "metadata": {},
   "outputs": [
    {
     "name": "stderr",
     "output_type": "stream",
     "text": [
      "Calculating food rations and costs: 100%|██████████| 8934/8934 [00:00<00:00, 32197.48it/s]\n"
     ]
    }
   ],
   "source": [
    "schools['RBD'] = schools['RBD'].apply(lambda x: [x])\n",
    "dbm.add_food_rations_and_costs(schools, racs)\n",
    "schools['RBD'] = schools['RBD'].apply(lambda x: x[0])"
   ]
  },
  {
   "cell_type": "code",
   "execution_count": 33,
   "metadata": {},
   "outputs": [],
   "source": [
    "new_logs = {'RBD': [], 'Logistica': []}\n",
    "for i, row in dupl_free.iterrows():\n",
    "    for rbd in row['RBD']:\n",
    "        new_logs['RBD'].append(rbd)\n",
    "        new_logs['Logistica'].append(row['Logistica'])\n",
    "\n",
    "new_logs = pd.DataFrame(new_logs)\n",
    "\n",
    "schools = schools.merge(new_logs, on='RBD', how='inner')\n",
    "\n",
    "dbm.add_profit(schools)\n",
    "ut_profits = dbm.get_ut_profits(schools, ut_label='UTE')\n",
    "ut_profits = ut_profits[ut_profits['Raciones'] > 0].reset_index(drop=True)\n",
    "\n",
    "ut_reassigned = {ut_profits['UTE'][i]: i for i in range(len(ut_profits))}\n",
    "\n",
    "ut_profits['UTE'] = ut_profits['UTE'].apply(lambda x: ut_reassigned[x])\n",
    "schools['UTE'] = schools['UTE'].apply(lambda x: ut_reassigned[x])\n"
   ]
  },
  {
   "cell_type": "code",
   "execution_count": 40,
   "metadata": {},
   "outputs": [
    {
     "name": "stdout",
     "output_type": "stream",
     "text": [
      "En promedio, el beneficio económico entre UTs vecinas presenta una razón de 9.066\n",
      "La razón más alta que se presenta entre UTs vecinas es 135.93\n",
      "La menor razón que se presenta entre UTs vecinas es 1.006\n"
     ]
    }
   ],
   "source": [
    "stats = dbm.obtain_stats(schools, ut_profits, ut_label='UTE', coords_labels=['Longitud', 'Latitud'])"
   ]
  },
  {
   "cell_type": "markdown",
   "metadata": {},
   "source": [
    "## Cálculo de estadísticas de solución presentada"
   ]
  },
  {
   "cell_type": "code",
   "execution_count": 41,
   "metadata": {},
   "outputs": [],
   "source": [
    "data_file = 'UT_profits.xlsx'\n",
    "df_profits = pd.read_excel(data_file)\n",
    "\n",
    "data_file = 'Colegios2020(UTs).xlsx'\n",
    "df_schools = pd.read_excel(data_file)"
   ]
  },
  {
   "cell_type": "code",
   "execution_count": 42,
   "metadata": {},
   "outputs": [
    {
     "name": "stdout",
     "output_type": "stream",
     "text": [
      "En promedio, el beneficio económico entre UTs vecinas presenta una razón de 1.287\n",
      "La razón más alta que se presenta entre UTs vecinas es 2.325\n",
      "La menor razón que se presenta entre UTs vecinas es 1.0\n"
     ]
    }
   ],
   "source": [
    "stats = dbm.obtain_stats(df_schools, df_profits, ut_label='UT', coords_labels=['Longitud', 'Latitud'])"
   ]
  }
 ],
 "metadata": {
  "kernelspec": {
   "display_name": "Python 3",
   "language": "python",
   "name": "python3"
  },
  "language_info": {
   "codemirror_mode": {
    "name": "ipython",
    "version": 3
   },
   "file_extension": ".py",
   "mimetype": "text/x-python",
   "name": "python",
   "nbconvert_exporter": "python",
   "pygments_lexer": "ipython3",
   "version": "3.11.5"
  }
 },
 "nbformat": 4,
 "nbformat_minor": 2
}
