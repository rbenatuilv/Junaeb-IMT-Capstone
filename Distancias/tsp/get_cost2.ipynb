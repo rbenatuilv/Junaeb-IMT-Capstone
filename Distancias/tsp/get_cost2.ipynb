{
 "cells": [
  {
   "cell_type": "code",
   "execution_count": 4,
   "metadata": {},
   "outputs": [],
   "source": [
    "import subprocess\n",
    "from pandas import read_csv\n",
    "from random import sample\n",
    "from pandas import read_excel\n",
    "import geopandas as gpd\n",
    "import numpy as np\n",
    "import json"
   ]
  },
  {
   "cell_type": "markdown",
   "metadata": {},
   "source": [
    "# Import "
   ]
  },
  {
   "cell_type": "code",
   "execution_count": 5,
   "metadata": {},
   "outputs": [],
   "source": [
    "CRS_LAT_LON = \"epsg:4326\"\n",
    "# CRS_WGS84 = \"EPSG:32719\"\n",
    "CRS_WGS84 = \"EPSG:3857\"\n",
    "CRS_CHILE19S = \"EPSG:20049\"\n",
    "# geo_data_proy[geo_data_proy[\"RBD\"]==913163]['closest'].values[0]"
   ]
  },
  {
   "cell_type": "code",
   "execution_count": null,
   "metadata": {},
   "outputs": [],
   "source": []
  },
  {
   "cell_type": "code",
   "execution_count": 6,
   "metadata": {},
   "outputs": [],
   "source": [
    "col_types = {\"RBD\": np.int32, \"UTE\": np.int32, \"Region\": str, \"Nombre\": str, \"Direccion\": str, \"Comuna\": str, \"Provincia\": str, \"closest\": list}\n",
    "data = read_excel(\"../../Data/Colegios(Continental)2020.xlsx\", dtype=col_types)\n",
    "\n",
    "data['closest'] = data['closest'].apply(json.loads)\n",
    "\n",
    "data[['indice', 'closest']].apply(lambda x: x.closest.remove(x.indice), axis=1)\n",
    "data['closest'] = data['closest'].apply(lambda x: np.array(x, dtype=np.int32))\n",
    "\n",
    "\n",
    "data['value'] = 0\n",
    "data = data.convert_dtypes()"
   ]
  },
  {
   "cell_type": "code",
   "execution_count": 8,
   "metadata": {},
   "outputs": [],
   "source": [
    "geometry = gpd.points_from_xy(data['Longitud'], data['Latitud'], crs=CRS_LAT_LON)\n",
    "geo_data = gpd.GeoDataFrame(data.drop(columns=['Latitud', 'Longitud']), geometry=geometry, crs=CRS_LAT_LON)"
   ]
  },
  {
   "cell_type": "code",
   "execution_count": 9,
   "metadata": {},
   "outputs": [],
   "source": [
    "geo_data_proy = geo_data.to_crs(CRS_CHILE19S)"
   ]
  },
  {
   "cell_type": "code",
   "execution_count": 12,
   "metadata": {},
   "outputs": [
    {
     "name": "stdout",
     "output_type": "stream",
     "text": [
      "False\n",
      "1.0479322282913934\n"
     ]
    }
   ],
   "source": [
    "geo_data_proy[\"x\"] = 10**11 * geo_data_proy.geometry.x\n",
    "geo_data_proy[\"y\"] = 10**11 * geo_data_proy.geometry.y\n",
    "\n",
    "print( max(10**11*geo_data_proy.geometry.x.max(), 10**11*geo_data_proy.geometry.y.max()) < 2**64/24)\n",
    "print( max(10**11*geo_data_proy.geometry.x.max(), 10**11*geo_data_proy.geometry.y.max())/(2**64/24))\n",
    "\n",
    "\n"
   ]
  },
  {
   "cell_type": "markdown",
   "metadata": {},
   "source": [
    "# Neighboors distribution"
   ]
  },
  {
   "cell_type": "code",
   "execution_count": 15,
   "metadata": {},
   "outputs": [],
   "source": [
    "def func(data):\n",
    "    dist = np.zeros(shape=len(data.closest))\n",
    "    min_dist = float(\"Inf\")\n",
    "    for j in range(len(data.closest)):\n",
    "        row = geo_data_proy[geo_data_proy['indice']==data.closest[j]]\n",
    "        dist_j = (abs(row[\"x\"]-data.x) + abs(row[\"y\"]-data.y)).iloc[0]\n",
    "        dist[j] = dist_j\n",
    "        if min_dist > dist_j and dist_j != 0:\n",
    "            min_dist = dist_j\n",
    "\n",
    "    prob_options = [1/i if i!=0 else 10/min_dist for i in dist] # Existen colegios que están literalmente en el mismo lugar raaaro\n",
    "    sum_dist = sum(prob_options)\n",
    "    for j in range(len(prob_options)):\n",
    "        prob_options[j] = prob_options[j]/sum_dist\n",
    "    return prob_options\n"
   ]
  },
  {
   "cell_type": "code",
   "execution_count": 16,
   "metadata": {},
   "outputs": [],
   "source": [
    "geo_data_proy['prob'] = geo_data_proy[['indice', 'x', 'y', 'closest']].apply(lambda x: func(x), axis=1)"
   ]
  },
  {
   "cell_type": "code",
   "execution_count": 30,
   "metadata": {},
   "outputs": [],
   "source": [
    "geo_data_proy.to_parquet('colegios_ready_tsp.parquet', index=False)\n",
    "geo_data_proy.to_csv('colegios_ready_tsp.csv', index=False, encoding='UTF-8')"
   ]
  },
  {
   "cell_type": "markdown",
   "metadata": {},
   "source": [
    "# Algorithm"
   ]
  },
  {
   "cell_type": "code",
   "execution_count": 18,
   "metadata": {},
   "outputs": [],
   "source": [
    "geo_data_proy_read = gpd.read_parquet('colegios_ready_tsp.parquet')"
   ]
  },
  {
   "cell_type": "code",
   "execution_count": 171,
   "metadata": {},
   "outputs": [],
   "source": [
    "# compile_command = [\"g++\", \"TSP.cpp\", \"-o\", \"TSP\"]\n",
    "# run_command = [\"./TSP\"]\n",
    "# compile_process = subprocess.run(compile_command, stdout = subprocess.PIPE)\n"
   ]
  },
  {
   "cell_type": "code",
   "execution_count": 19,
   "metadata": {},
   "outputs": [],
   "source": [
    "MAXN = 12 #Máxima cantidad de colegios\n",
    "#MAXR = 5000 #Máxima cantidad de raciones\n",
    "MAXD = 1006065184946015 #Máxima distancia entre el colegio de inicio\n",
    "#C = 600000 #Costo fijo de tener una furgoneta\n",
    "K = 10 #Número de ejemplos por cada colegio\n",
    "#factor = (10**10) #Factor de conversión a pesos"
   ]
  },
  {
   "cell_type": "code",
   "execution_count": 29,
   "metadata": {},
   "outputs": [
    {
     "name": "stdout",
     "output_type": "stream",
     "text": [
      "8.881784197001252e-16\n"
     ]
    }
   ],
   "source": [
    "for index, row in geo_data_proy_read[[\"x\", \"y\", \"RBD\", \"closest\", \"prob\"]].iterrows():\n",
    "    # options = [el for el in row['closest'] if el != row['RBD']]\n",
    "    # dist_options = [0 for _ in range(len(options))]\n",
    "    # min_dist = float(\"Inf\")\n",
    "    # for j in range(len(options)):\n",
    "    #     row_options = geo_data_proy[geo_data_proy['RBD']==options[j]]\n",
    "    #     dist_j = abs(row_options[\"x\"] - row[\"x\"]).values[0] + abs(row_options[\"y\"] - row[\"y\"]).values[0]\n",
    "    #     dist_options[j] = dist_j\n",
    "    #     if min_dist > dist_j and dist_j != 0:\n",
    "    #         min_dist = dist_j\n",
    "    \n",
    "    # prob_options = [1/i if i!=0 else 10/min_dist for i in dist_options] # Existen colegios que están literalmente en el mismo lugar raaaro\n",
    "    # sum_dist = sum(prob_options)\n",
    "    # for j in range(len(options)):\n",
    "    #     prob_options[j] = prob_options[j]/sum_dist\n",
    "    suma = 0\n",
    "    cant = 0\n",
    "    size_i = min(MAXN, len(row[\"closest\"])) # A veces la cant de colegios no alcanza para MAXN\n",
    "    for j in range(K):\n",
    "        # print(row['RBD'], options)\n",
    "        # print(dist_options)\n",
    "        sample_i = np.random.choice(row[\"closest\"], size=size_i, replace=False, p=row[\"prob\"])\n",
    "        # sample_i = [2,34]\n",
    "        # print(sample_i)\n",
    "        samples = geo_data_proy[geo_data_proy['indice'].isin(sample_i)]\n",
    "        sample_i = [row['RBD']] + sample_i\n",
    "\n",
    "        entrada = str(len(geo_data_proy)) + \"\\n\"\n",
    "        for u in samples:\n",
    "            entrada = entrada + str(samples[\"x\"]) + \" \" + str(samples[\"y\"]) + \"\\n\"\n",
    "        \n",
    "        # run_process = subprocess.run(run_command, input = entrada.encode(), stdout = subprocess.PIPE)\n",
    "        #res = (int(run_process.stdout.decode()) + C)/len(schools)\n",
    "        # res = int(run_process.stdout.decode())/len(sample_i)\n",
    "        res = 5\n",
    "\n",
    "        for u in sample_i:\n",
    "            suma += res\n",
    "            cant += 1\n",
    "    row['value'] = suma/cant\n",
    "\n",
    "\n"
   ]
  },
  {
   "cell_type": "code",
   "execution_count": null,
   "metadata": {},
   "outputs": [
    {
     "name": "stdout",
     "output_type": "stream",
     "text": [
      "8934\n",
      "37107995842225568 410955855508511616\n",
      "37107995842225568 410955855508511616\n",
      "37107995842225568 410955855508511616\n",
      "37107995842225568 410955855508511616\n",
      "37107995842225568 410955855508511616\n",
      "37107995842225568 410955855508511616\n",
      "37107995842225568 410955855508511616\n",
      "37107995842225568 410955855508511616\n",
      "37107995842225568 410955855508511616\n",
      "37107995842225568 410955855508511616\n",
      "37107995842225568 410955855508511616\n",
      "37107995842225568 410955855508511616\n",
      "\n"
     ]
    }
   ],
   "source": [
    "print(entrada)"
   ]
  },
  {
   "cell_type": "code",
   "execution_count": null,
   "metadata": {},
   "outputs": [],
   "source": []
  },
  {
   "cell_type": "code",
   "execution_count": null,
   "metadata": {},
   "outputs": [],
   "source": [
    "geo_data_proy.to_csv(\"colegios_final.csv\")\n"
   ]
  }
 ],
 "metadata": {
  "kernelspec": {
   "display_name": "Python 3",
   "language": "python",
   "name": "python3"
  },
  "language_info": {
   "codemirror_mode": {
    "name": "ipython",
    "version": 3
   },
   "file_extension": ".py",
   "mimetype": "text/x-python",
   "name": "python",
   "nbconvert_exporter": "python",
   "pygments_lexer": "ipython3",
   "version": "3.9.13"
  }
 },
 "nbformat": 4,
 "nbformat_minor": 2
}
