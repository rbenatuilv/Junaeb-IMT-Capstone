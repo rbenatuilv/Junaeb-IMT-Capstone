{
 "cells": [
  {
   "cell_type": "code",
   "execution_count": 2,
   "metadata": {},
   "outputs": [],
   "source": [
    "import pandas as pd\n",
    "import geopandas as gpd\n",
    "import numpy as np\n",
    "import pickle\n",
    "import os"
   ]
  },
  {
   "cell_type": "code",
   "execution_count": 6,
   "metadata": {},
   "outputs": [],
   "source": [
    "parent_folder = 'Data'\n",
    "\n",
    "path = os.path.join(parent_folder, 'DATA_JUNAEB.pkl')\n",
    "\n",
    "with open(path, 'rb') as f:\n",
    "    data = pickle.load(f)\n"
   ]
  },
  {
   "cell_type": "code",
   "execution_count": 48,
   "metadata": {},
   "outputs": [],
   "source": [
    "# Delete extra spaces in column 'Nivel Educativo'\n",
    "\n",
    "for key in data:\n",
    "    data[key]['Nivel Educativo'] = data[key]['Nivel Educativo'].str.strip()\n",
    "    data[key]['Servicio'] = data[key]['Servicio'].str.strip()\n",
    "    "
   ]
  },
  {
   "cell_type": "code",
   "execution_count": 60,
   "metadata": {},
   "outputs": [],
   "source": [
    "path = os.path.join(parent_folder, 'Colegios(Continental)2020.xlsx')\n",
    "\n",
    "colegios = pd.read_excel(path)\n",
    "\n",
    "rbds = colegios['RBD'].values\n"
   ]
  },
  {
   "cell_type": "code",
   "execution_count": 83,
   "metadata": {},
   "outputs": [],
   "source": [
    "def get_df_prices(data, rbds):\n",
    "    prices = {}\n",
    "    prices['RBD'] = list(rbds)\n",
    "\n",
    "    for month in data:\n",
    "        prices[month] = []\n",
    "        for rbd in rbds:\n",
    "            raciones = data[month][data[month]['Rbd'] == rbd]['Rac. Diaria Asig.']\n",
    "            precio = data[month][data[month]['Rbd'] == rbd]['Precio Base']\n",
    "            dias = data[month][data[month]['Rbd'] == rbd]['Dias ASI']\n",
    "            \n",
    "            total = raciones * precio * dias\n",
    "\n",
    "            prices[month].append(total.sum())\n",
    "\n",
    "    return pd.DataFrame(prices)"
   ]
  },
  {
   "cell_type": "code",
   "execution_count": 84,
   "metadata": {},
   "outputs": [],
   "source": [
    "data_noCAN = {key: df[df['Servicio'] != 'CAN'] for key, df in data.items()}\n",
    "data_CAN = {key: df[df['Servicio'] == 'CAN'] for key, df in data.items()}\n",
    "\n",
    "prices_no_CAN = get_df_prices(data_noCAN, rbds)\n",
    "prices_CAN = get_df_prices(data_CAN, rbds)"
   ]
  },
  {
   "cell_type": "code",
   "execution_count": 86,
   "metadata": {},
   "outputs": [],
   "source": [
    "parent_folder = 'Data'\n",
    "folder = 'Precios'\n",
    "\n",
    "path1 = os.path.join(parent_folder, folder, 'Precios_noCAN.xlsx')\n",
    "path2 = os.path.join(parent_folder, folder, 'Precios_CAN.xlsx')\n",
    "\n",
    "prices_no_CAN.to_excel(path1, index=False)\n",
    "prices_CAN.to_excel(path2, index=False)"
   ]
  }
 ],
 "metadata": {
  "kernelspec": {
   "display_name": "Python 3",
   "language": "python",
   "name": "python3"
  },
  "language_info": {
   "codemirror_mode": {
    "name": "ipython",
    "version": 3
   },
   "file_extension": ".py",
   "mimetype": "text/x-python",
   "name": "python",
   "nbconvert_exporter": "python",
   "pygments_lexer": "ipython3",
   "version": "3.11.5"
  }
 },
 "nbformat": 4,
 "nbformat_minor": 2
}
